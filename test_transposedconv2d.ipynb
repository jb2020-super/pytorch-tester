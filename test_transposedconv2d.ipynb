{
 "metadata": {
  "language_info": {
   "codemirror_mode": {
    "name": "ipython",
    "version": 3
   },
   "file_extension": ".py",
   "mimetype": "text/x-python",
   "name": "python",
   "nbconvert_exporter": "python",
   "pygments_lexer": "ipython3",
   "version": "3.8.3"
  },
  "orig_nbformat": 2,
  "kernelspec": {
   "name": "python383jvsc74a57bd0c9065c558bee4c4db638e2f8f7496f90f39fc7fab4c41fb820e5cc84613df2a7",
   "display_name": "Python 3.8.3 64-bit ('base': conda)"
  }
 },
 "nbformat": 4,
 "nbformat_minor": 2,
 "cells": [
  {
   "cell_type": "code",
   "execution_count": 1,
   "metadata": {},
   "outputs": [
    {
     "output_type": "stream",
     "text": [
      "\u001b[1;31mDocstring:\u001b[0m\n",
      "linspace(start, end, steps, *, out=None, dtype=None, layout=torch.strided, device=None, requires_grad=False) -> Tensor\n",
      "\n",
      "Creates a one-dimensional tensor of size :attr:`steps` whose values are evenly\n",
      "spaced from :attr:`start` to :attr:`end`, inclusive. That is, the value are:\n",
      "\n",
      ".. math::\n",
      "    (\\text{start},\n",
      "    \\text{start} + \\frac{\\text{end} - \\text{start}}{\\text{steps}},\n",
      "    \\ldots,\n",
      "    \\text{start} + (\\text{steps} - 1) * \\frac{\\text{end} - \\text{start}}{\\text{steps}},\n",
      "    \\text{end})\n",
      "\n",
      "\n",
      ".. warning::\n",
      "    Not providing a value for :attr:`steps` is deprecated. For backwards\n",
      "    compatibility, not providing a value for :attr:`steps` will create a tensor\n",
      "    with 100 elements. Note that this behavior is not reflected in the\n",
      "    documented function signature and should not be relied on. In a future\n",
      "    PyTorch release, failing to provide a value for :attr:`steps` will throw a\n",
      "    runtime error.\n",
      "\n",
      "Args:\n",
      "    start (float): the starting value for the set of points\n",
      "    end (float): the ending value for the set of points\n",
      "    steps (int): size of the constructed tensor\n",
      "    out (Tensor, optional): the output tensor.\n",
      "    dtype (:class:`torch.dtype`, optional): the desired data type of returned tensor.\n",
      "        Default: if ``None``, uses a global default (see :func:`torch.set_default_tensor_type`).\n",
      "    layout (:class:`torch.layout`, optional): the desired layout of returned Tensor.\n",
      "        Default: ``torch.strided``.\n",
      "    device (:class:`torch.device`, optional): the desired device of returned tensor.\n",
      "        Default: if ``None``, uses the current device for the default tensor type\n",
      "        (see :func:`torch.set_default_tensor_type`). :attr:`device` will be the CPU\n",
      "        for CPU tensor types and the current CUDA device for CUDA tensor types.\n",
      "    requires_grad (bool, optional): If autograd should record operations on the\n",
      "        returned tensor. Default: ``False``.\n",
      "\n",
      "\n",
      "Example::\n",
      "\n",
      "    >>> torch.linspace(3, 10, steps=5)\n",
      "    tensor([  3.0000,   4.7500,   6.5000,   8.2500,  10.0000])\n",
      "    >>> torch.linspace(-10, 10, steps=5)\n",
      "    tensor([-10.,  -5.,   0.,   5.,  10.])\n",
      "    >>> torch.linspace(start=-10, end=10, steps=5)\n",
      "    tensor([-10.,  -5.,   0.,   5.,  10.])\n",
      "    >>> torch.linspace(start=-10, end=10, steps=1)\n",
      "    tensor([-10.])\n",
      "\u001b[1;31mType:\u001b[0m      builtin_function_or_method\n"
     ],
     "name": "stdout"
    }
   ],
   "source": [
    "import torch\n",
    "torch.linspace?"
   ]
  },
  {
   "cell_type": "code",
   "execution_count": 12,
   "metadata": {},
   "outputs": [
    {
     "output_type": "execute_result",
     "data": {
      "text/plain": [
       "tensor([ 0.,  1.,  2.,  3.,  4.,  5.,  6.,  7.,  8.,  9., 10., 11., 12., 13.,\n",
       "        14., 15., 16., 17., 18., 19., 20., 21., 22., 23., 24.])"
      ]
     },
     "metadata": {},
     "execution_count": 12
    }
   ],
   "source": [
    "t0 = torch.linspace(0, 24, steps=25)\n",
    "t0"
   ]
  },
  {
   "cell_type": "code",
   "execution_count": 10,
   "metadata": {},
   "outputs": [
    {
     "output_type": "execute_result",
     "data": {
      "text/plain": [
       "torch.float32"
      ]
     },
     "metadata": {},
     "execution_count": 10
    }
   ],
   "source": [
    "t0.dtype"
   ]
  },
  {
   "cell_type": "code",
   "execution_count": 13,
   "metadata": {},
   "outputs": [
    {
     "output_type": "execute_result",
     "data": {
      "text/plain": [
       "torch.strided"
      ]
     },
     "metadata": {},
     "execution_count": 13
    }
   ],
   "source": [
    "t0.layout"
   ]
  },
  {
   "cell_type": "code",
   "execution_count": 25,
   "metadata": {},
   "outputs": [
    {
     "output_type": "execute_result",
     "data": {
      "text/plain": [
       "tensor([[[[ 0.,  1.,  2.,  3.,  4.],\n",
       "          [ 5.,  6.,  7.,  8.,  9.],\n",
       "          [10., 11., 12., 13., 14.],\n",
       "          [15., 16., 17., 18., 19.],\n",
       "          [20., 21., 22., 23., 24.]]]])"
      ]
     },
     "metadata": {},
     "execution_count": 25
    }
   ],
   "source": [
    "input = t0.reshape(1, 1, 5, 5)\n",
    "input"
   ]
  },
  {
   "cell_type": "code",
   "execution_count": 35,
   "metadata": {},
   "outputs": [
    {
     "output_type": "execute_result",
     "data": {
      "text/plain": [
       "tensor([[[[1., 1., 1.],\n",
       "          [1., 1., 1.],\n",
       "          [1., 1., 1.]]]])"
      ]
     },
     "metadata": {},
     "execution_count": 35
    }
   ],
   "source": [
    "filter = torch.ones(1, 1, 3, 3)\n",
    "filter"
   ]
  },
  {
   "cell_type": "code",
   "execution_count": 22,
   "metadata": {},
   "outputs": [
    {
     "output_type": "stream",
     "text": [
      "\u001b[1;31mInit signature:\u001b[0m\n",
      "\u001b[0mtorch\u001b[0m\u001b[1;33m.\u001b[0m\u001b[0mnn\u001b[0m\u001b[1;33m.\u001b[0m\u001b[0mConvTranspose2d\u001b[0m\u001b[1;33m(\u001b[0m\u001b[1;33m\n",
      "\u001b[0m    \u001b[0min_channels\u001b[0m\u001b[1;33m:\u001b[0m \u001b[0mint\u001b[0m\u001b[1;33m,\u001b[0m\u001b[1;33m\n",
      "\u001b[0m    \u001b[0mout_channels\u001b[0m\u001b[1;33m:\u001b[0m \u001b[0mint\u001b[0m\u001b[1;33m,\u001b[0m\u001b[1;33m\n",
      "\u001b[0m    \u001b[0mkernel_size\u001b[0m\u001b[1;33m:\u001b[0m \u001b[0mUnion\u001b[0m\u001b[1;33m[\u001b[0m\u001b[0mint\u001b[0m\u001b[1;33m,\u001b[0m \u001b[0mTuple\u001b[0m\u001b[1;33m[\u001b[0m\u001b[0mint\u001b[0m\u001b[1;33m,\u001b[0m \u001b[0mint\u001b[0m\u001b[1;33m]\u001b[0m\u001b[1;33m]\u001b[0m\u001b[1;33m,\u001b[0m\u001b[1;33m\n",
      "\u001b[0m    \u001b[0mstride\u001b[0m\u001b[1;33m:\u001b[0m \u001b[0mUnion\u001b[0m\u001b[1;33m[\u001b[0m\u001b[0mint\u001b[0m\u001b[1;33m,\u001b[0m \u001b[0mTuple\u001b[0m\u001b[1;33m[\u001b[0m\u001b[0mint\u001b[0m\u001b[1;33m,\u001b[0m \u001b[0mint\u001b[0m\u001b[1;33m]\u001b[0m\u001b[1;33m]\u001b[0m \u001b[1;33m=\u001b[0m \u001b[1;36m1\u001b[0m\u001b[1;33m,\u001b[0m\u001b[1;33m\n",
      "\u001b[0m    \u001b[0mpadding\u001b[0m\u001b[1;33m:\u001b[0m \u001b[0mUnion\u001b[0m\u001b[1;33m[\u001b[0m\u001b[0mint\u001b[0m\u001b[1;33m,\u001b[0m \u001b[0mTuple\u001b[0m\u001b[1;33m[\u001b[0m\u001b[0mint\u001b[0m\u001b[1;33m,\u001b[0m \u001b[0mint\u001b[0m\u001b[1;33m]\u001b[0m\u001b[1;33m]\u001b[0m \u001b[1;33m=\u001b[0m \u001b[1;36m0\u001b[0m\u001b[1;33m,\u001b[0m\u001b[1;33m\n",
      "\u001b[0m    \u001b[0moutput_padding\u001b[0m\u001b[1;33m:\u001b[0m \u001b[0mUnion\u001b[0m\u001b[1;33m[\u001b[0m\u001b[0mint\u001b[0m\u001b[1;33m,\u001b[0m \u001b[0mTuple\u001b[0m\u001b[1;33m[\u001b[0m\u001b[0mint\u001b[0m\u001b[1;33m,\u001b[0m \u001b[0mint\u001b[0m\u001b[1;33m]\u001b[0m\u001b[1;33m]\u001b[0m \u001b[1;33m=\u001b[0m \u001b[1;36m0\u001b[0m\u001b[1;33m,\u001b[0m\u001b[1;33m\n",
      "\u001b[0m    \u001b[0mgroups\u001b[0m\u001b[1;33m:\u001b[0m \u001b[0mint\u001b[0m \u001b[1;33m=\u001b[0m \u001b[1;36m1\u001b[0m\u001b[1;33m,\u001b[0m\u001b[1;33m\n",
      "\u001b[0m    \u001b[0mbias\u001b[0m\u001b[1;33m:\u001b[0m \u001b[0mbool\u001b[0m \u001b[1;33m=\u001b[0m \u001b[1;32mTrue\u001b[0m\u001b[1;33m,\u001b[0m\u001b[1;33m\n",
      "\u001b[0m    \u001b[0mdilation\u001b[0m\u001b[1;33m:\u001b[0m \u001b[0mint\u001b[0m \u001b[1;33m=\u001b[0m \u001b[1;36m1\u001b[0m\u001b[1;33m,\u001b[0m\u001b[1;33m\n",
      "\u001b[0m    \u001b[0mpadding_mode\u001b[0m\u001b[1;33m:\u001b[0m \u001b[0mstr\u001b[0m \u001b[1;33m=\u001b[0m \u001b[1;34m'zeros'\u001b[0m\u001b[1;33m,\u001b[0m\u001b[1;33m\n",
      "\u001b[0m\u001b[1;33m)\u001b[0m\u001b[1;33m\u001b[0m\u001b[1;33m\u001b[0m\u001b[0m\n",
      "\u001b[1;31mDocstring:\u001b[0m     \n",
      "Applies a 2D transposed convolution operator over an input image\n",
      "composed of several input planes.\n",
      "\n",
      "This module can be seen as the gradient of Conv2d with respect to its input.\n",
      "It is also known as a fractionally-strided convolution or\n",
      "a deconvolution (although it is not an actual deconvolution operation).\n",
      "\n",
      "This module supports :ref:`TensorFloat32<tf32_on_ampere>`.\n",
      "\n",
      "* :attr:`stride` controls the stride for the cross-correlation.\n",
      "\n",
      "* :attr:`padding` controls the amount of implicit zero-paddings on both\n",
      "  sides for ``dilation * (kernel_size - 1) - padding`` number of points. See note\n",
      "  below for details.\n",
      "\n",
      "* :attr:`output_padding` controls the additional size added to one side\n",
      "  of the output shape. See note below for details.\n",
      "\n",
      "* :attr:`dilation` controls the spacing between the kernel points; also known as the à trous algorithm.\n",
      "  It is harder to describe, but this `link`_ has a nice visualization of what :attr:`dilation` does.\n",
      "\n",
      "* :attr:`groups` controls the connections between inputs and outputs.\n",
      "  :attr:`in_channels` and :attr:`out_channels` must both be divisible by\n",
      "  :attr:`groups`. For example,\n",
      "\n",
      "    * At groups=1, all inputs are convolved to all outputs.\n",
      "    * At groups=2, the operation becomes equivalent to having two conv\n",
      "      layers side by side, each seeing half the input channels,\n",
      "      and producing half the output channels, and both subsequently\n",
      "      concatenated.\n",
      "    * At groups= :attr:`in_channels`, each input channel is convolved with\n",
      "      its own set of filters (of size\n",
      "      :math:`\\left\\lfloor\\frac{out\\_channels}{in\\_channels}\\right\\rfloor`).\n",
      "\n",
      "The parameters :attr:`kernel_size`, :attr:`stride`, :attr:`padding`, :attr:`output_padding`\n",
      "can either be:\n",
      "\n",
      "    - a single ``int`` -- in which case the same value is used for the height and width dimensions\n",
      "    - a ``tuple`` of two ints -- in which case, the first `int` is used for the height dimension,\n",
      "      and the second `int` for the width dimension\n",
      "\n",
      ".. note::\n",
      "\n",
      "     Depending of the size of your kernel, several (of the last)\n",
      "     columns of the input might be lost, because it is a valid `cross-correlation`_,\n",
      "     and not a full `cross-correlation`_.\n",
      "     It is up to the user to add proper padding.\n",
      "\n",
      "Note:\n",
      "    The :attr:`padding` argument effectively adds ``dilation * (kernel_size - 1) - padding``\n",
      "    amount of zero padding to both sizes of the input. This is set so that\n",
      "    when a :class:`~torch.nn.Conv2d` and a :class:`~torch.nn.ConvTranspose2d`\n",
      "    are initialized with same parameters, they are inverses of each other in\n",
      "    regard to the input and output shapes. However, when ``stride > 1``,\n",
      "    :class:`~torch.nn.Conv2d` maps multiple input shapes to the same output\n",
      "    shape. :attr:`output_padding` is provided to resolve this ambiguity by\n",
      "    effectively increasing the calculated output shape on one side. Note\n",
      "    that :attr:`output_padding` is only used to find output shape, but does\n",
      "    not actually add zero-padding to output.\n",
      "\n",
      "Note:\n",
      "    In some circumstances when using the CUDA backend with CuDNN, this operator\n",
      "    may select a nondeterministic algorithm to increase performance. If this is\n",
      "    undesirable, you can try to make the operation deterministic (potentially at\n",
      "    a performance cost) by setting ``torch.backends.cudnn.deterministic =\n",
      "    True``.\n",
      "    Please see the notes on :doc:`/notes/randomness` for background.\n",
      "\n",
      "\n",
      "Args:\n",
      "    in_channels (int): Number of channels in the input image\n",
      "    out_channels (int): Number of channels produced by the convolution\n",
      "    kernel_size (int or tuple): Size of the convolving kernel\n",
      "    stride (int or tuple, optional): Stride of the convolution. Default: 1\n",
      "    padding (int or tuple, optional): ``dilation * (kernel_size - 1) - padding`` zero-padding\n",
      "        will be added to both sides of each dimension in the input. Default: 0\n",
      "    output_padding (int or tuple, optional): Additional size added to one side\n",
      "        of each dimension in the output shape. Default: 0\n",
      "    groups (int, optional): Number of blocked connections from input channels to output channels. Default: 1\n",
      "    bias (bool, optional): If ``True``, adds a learnable bias to the output. Default: ``True``\n",
      "    dilation (int or tuple, optional): Spacing between kernel elements. Default: 1\n",
      "\n",
      "Shape:\n",
      "    - Input: :math:`(N, C_{in}, H_{in}, W_{in})`\n",
      "    - Output: :math:`(N, C_{out}, H_{out}, W_{out})` where\n",
      "\n",
      "    .. math::\n",
      "          H_{out} = (H_{in} - 1) \\times \\text{stride}[0] - 2 \\times \\text{padding}[0] + \\text{dilation}[0]\n",
      "                    \\times (\\text{kernel\\_size}[0] - 1) + \\text{output\\_padding}[0] + 1\n",
      "    .. math::\n",
      "          W_{out} = (W_{in} - 1) \\times \\text{stride}[1] - 2 \\times \\text{padding}[1] + \\text{dilation}[1]\n",
      "                    \\times (\\text{kernel\\_size}[1] - 1) + \\text{output\\_padding}[1] + 1\n",
      "\n",
      "Attributes:\n",
      "    weight (Tensor): the learnable weights of the module of shape\n",
      "                     :math:`(\\text{in\\_channels}, \\frac{\\text{out\\_channels}}{\\text{groups}},`\n",
      "                     :math:`\\text{kernel\\_size[0]}, \\text{kernel\\_size[1]})`.\n",
      "                     The values of these weights are sampled from\n",
      "                     :math:`\\mathcal{U}(-\\sqrt{k}, \\sqrt{k})` where\n",
      "                     :math:`k = \\frac{groups}{C_\\text{out} * \\prod_{i=0}^{1}\\text{kernel\\_size}[i]}`\n",
      "    bias (Tensor):   the learnable bias of the module of shape (out_channels)\n",
      "                     If :attr:`bias` is ``True``, then the values of these weights are\n",
      "                     sampled from :math:`\\mathcal{U}(-\\sqrt{k}, \\sqrt{k})` where\n",
      "                     :math:`k = \\frac{groups}{C_\\text{out} * \\prod_{i=0}^{1}\\text{kernel\\_size}[i]}`\n",
      "\n",
      "Examples::\n",
      "\n",
      "    >>> # With square kernels and equal stride\n",
      "    >>> m = nn.ConvTranspose2d(16, 33, 3, stride=2)\n",
      "    >>> # non-square kernels and unequal stride and with padding\n",
      "    >>> m = nn.ConvTranspose2d(16, 33, (3, 5), stride=(2, 1), padding=(4, 2))\n",
      "    >>> input = torch.randn(20, 16, 50, 100)\n",
      "    >>> output = m(input)\n",
      "    >>> # exact output size can be also specified as an argument\n",
      "    >>> input = torch.randn(1, 16, 12, 12)\n",
      "    >>> downsample = nn.Conv2d(16, 16, 3, stride=2, padding=1)\n",
      "    >>> upsample = nn.ConvTranspose2d(16, 16, 3, stride=2, padding=1)\n",
      "    >>> h = downsample(input)\n",
      "    >>> h.size()\n",
      "    torch.Size([1, 16, 6, 6])\n",
      "    >>> output = upsample(h, output_size=input.size())\n",
      "    >>> output.size()\n",
      "    torch.Size([1, 16, 12, 12])\n",
      "\n",
      ".. _cross-correlation:\n",
      "    https://en.wikipedia.org/wiki/Cross-correlation\n",
      "\n",
      ".. _link:\n",
      "    https://github.com/vdumoulin/conv_arithmetic/blob/master/README.md\n",
      "\u001b[1;31mInit docstring:\u001b[0m Initializes internal Module state, shared by both nn.Module and ScriptModule.\n",
      "\u001b[1;31mFile:\u001b[0m           c:\\users\\nero\\anaconda3\\lib\\site-packages\\torch\\nn\\modules\\conv.py\n",
      "\u001b[1;31mType:\u001b[0m           type\n",
      "\u001b[1;31mSubclasses:\u001b[0m     \n"
     ],
     "name": "stdout"
    }
   ],
   "source": [
    "torch.nn.ConvTranspose2d?"
   ]
  },
  {
   "cell_type": "code",
   "execution_count": 52,
   "metadata": {},
   "outputs": [],
   "source": [
    "upsample = torch.nn.ConvTranspose2d(1, 1, kernel_size=3, stride=1, bias=False)\n",
    "upsample2 = torch.nn.ConvTranspose2d(1, 1, kernel_size=3, stride=2, bias=False)"
   ]
  },
  {
   "cell_type": "code",
   "execution_count": 53,
   "metadata": {},
   "outputs": [
    {
     "output_type": "stream",
     "name": "stdout",
     "text": [
      "tensor([[[[1., 1., 1.],\n          [1., 1., 1.],\n          [1., 1., 1.]]]])\n"
     ]
    }
   ],
   "source": [
    "upsample.weight.data = filter\n",
    "print(upsample.weight.data)\n",
    "upsample2.weight.data = filter\n"
   ]
  },
  {
   "cell_type": "code",
   "execution_count": 54,
   "metadata": {},
   "outputs": [
    {
     "output_type": "stream",
     "name": "stdout",
     "text": [
      "tensor([[[[  0.,   1.,   3.,   6.,   9.,   7.,   4.],\n          [  5.,  12.,  21.,  27.,  33.,  24.,  13.],\n          [ 15.,  33.,  54.,  63.,  72.,  51.,  27.],\n          [ 30.,  63.,  99., 108., 117.,  81.,  42.],\n          [ 45.,  93., 144., 153., 162., 111.,  57.],\n          [ 35.,  72., 111., 117., 123.,  84.,  43.],\n          [ 20.,  41.,  63.,  66.,  69.,  47.,  24.]]]],\n       grad_fn=<SlowConvTranspose2DBackward>)\n"
     ]
    }
   ],
   "source": [
    "output = upsample(input)\n",
    "print(output)"
   ]
  },
  {
   "cell_type": "code",
   "execution_count": 55,
   "metadata": {},
   "outputs": [
    {
     "output_type": "stream",
     "name": "stdout",
     "text": [
      "[[[[  0.   1.   3.   6.   9.   7.   4.]\n   [  5.  12.  21.  27.  33.  24.  13.]\n   [ 15.  33.  54.  63.  72.  51.  27.]\n   [ 30.  63.  99. 108. 117.  81.  42.]\n   [ 45.  93. 144. 153. 162. 111.  57.]\n   [ 35.  72. 111. 117. 123.  84.  43.]\n   [ 20.  41.  63.  66.  69.  47.  24.]]]]\n"
     ]
    }
   ],
   "source": [
    "print(output.detach().numpy())"
   ]
  },
  {
   "cell_type": "code",
   "execution_count": 56,
   "metadata": {},
   "outputs": [
    {
     "output_type": "stream",
     "name": "stdout",
     "text": [
      "tensor([[[[ 0.,  0.,  1.,  1.,  3.,  2.,  5.,  3.,  7.,  4.,  4.],\n          [ 0.,  0.,  1.,  1.,  3.,  2.,  5.,  3.,  7.,  4.,  4.],\n          [ 5.,  5., 12.,  7., 16.,  9., 20., 11., 24., 13., 13.],\n          [ 5.,  5., 11.,  6., 13.,  7., 15.,  8., 17.,  9.,  9.],\n          [15., 15., 32., 17., 36., 19., 40., 21., 44., 23., 23.],\n          [10., 10., 21., 11., 23., 12., 25., 13., 27., 14., 14.],\n          [25., 25., 52., 27., 56., 29., 60., 31., 64., 33., 33.],\n          [15., 15., 31., 16., 33., 17., 35., 18., 37., 19., 19.],\n          [35., 35., 72., 37., 76., 39., 80., 41., 84., 43., 43.],\n          [20., 20., 41., 21., 43., 22., 45., 23., 47., 24., 24.],\n          [20., 20., 41., 21., 43., 22., 45., 23., 47., 24., 24.]]]],\n       grad_fn=<SlowConvTranspose2DBackward>)\n"
     ]
    }
   ],
   "source": [
    "output2 = upsample2(input)\n",
    "print(output2)"
   ]
  },
  {
   "cell_type": "code",
   "execution_count": 46,
   "metadata": {},
   "outputs": [],
   "source": [
    "def trans_conv(X, K):\n",
    "    h, w = K.shape\n",
    "    Y = torch.zeros((X.shape[0] + h - 1, X.shape[1] + w - 1))\n",
    "    for i in range(X.shape[0]):\n",
    "        for j in range(X.shape[1]):\n",
    "            Y[i:i + h, j:j + w] += X[i, j] * K\n",
    "    return Y"
   ]
  },
  {
   "cell_type": "code",
   "execution_count": 49,
   "metadata": {},
   "outputs": [],
   "source": [
    "input_2d = input.reshape(5, 5)"
   ]
  },
  {
   "cell_type": "code",
   "execution_count": 50,
   "metadata": {},
   "outputs": [],
   "source": [
    "filter_2d = filter.reshape(3, 3)"
   ]
  },
  {
   "cell_type": "code",
   "execution_count": 51,
   "metadata": {},
   "outputs": [
    {
     "output_type": "execute_result",
     "data": {
      "text/plain": [
       "tensor([[  0.,   1.,   3.,   6.,   9.,   7.,   4.],\n",
       "        [  5.,  12.,  21.,  27.,  33.,  24.,  13.],\n",
       "        [ 15.,  33.,  54.,  63.,  72.,  51.,  27.],\n",
       "        [ 30.,  63.,  99., 108., 117.,  81.,  42.],\n",
       "        [ 45.,  93., 144., 153., 162., 111.,  57.],\n",
       "        [ 35.,  72., 111., 117., 123.,  84.,  43.],\n",
       "        [ 20.,  41.,  63.,  66.,  69.,  47.,  24.]])"
      ]
     },
     "metadata": {},
     "execution_count": 51
    }
   ],
   "source": [
    "trans_conv(input_2d, filter_2d)"
   ]
  },
  {
   "cell_type": "code",
   "execution_count": null,
   "metadata": {},
   "outputs": [],
   "source": []
  }
 ]
}