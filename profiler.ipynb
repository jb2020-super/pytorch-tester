{
 "metadata": {
  "language_info": {
   "codemirror_mode": {
    "name": "ipython",
    "version": 3
   },
   "file_extension": ".py",
   "mimetype": "text/x-python",
   "name": "python",
   "nbconvert_exporter": "python",
   "pygments_lexer": "ipython3",
   "version": "3.8.3"
  },
  "orig_nbformat": 2,
  "kernelspec": {
   "name": "python383jvsc74a57bd0c9065c558bee4c4db638e2f8f7496f90f39fc7fab4c41fb820e5cc84613df2a7",
   "display_name": "Python 3.8.3 64-bit ('base': conda)"
  }
 },
 "nbformat": 4,
 "nbformat_minor": 2,
 "cells": [
  {
   "cell_type": "code",
   "execution_count": 1,
   "metadata": {},
   "outputs": [],
   "source": [
    "import torch\n",
    "import torchvision.models as models\n",
    "import torch.autograd.profiler as profiler\n"
   ]
  },
  {
   "cell_type": "code",
   "execution_count": 2,
   "metadata": {},
   "outputs": [],
   "source": [
    "model = models.resnet18()\n",
    "inputs = torch.randn(5, 3, 224, 224)"
   ]
  },
  {
   "cell_type": "code",
   "execution_count": 3,
   "metadata": {},
   "outputs": [],
   "source": [
    "with profiler.profile(record_shapes=True) as prof:\n",
    "    with profiler.record_function(\"model_inference\"):\n",
    "        model(inputs)"
   ]
  },
  {
   "cell_type": "code",
   "execution_count": 4,
   "metadata": {},
   "outputs": [
    {
     "output_type": "stream",
     "name": "stdout",
     "text": [
      "---------------------------------  ------------  ------------  ------------  ------------  ------------  ------------  \n                             Name    Self CPU %      Self CPU   CPU total %     CPU total  CPU time avg    # of Calls  \n---------------------------------  ------------  ------------  ------------  ------------  ------------  ------------  \n                  model_inference        10.62%      16.230ms        98.97%     151.208ms     151.208ms             1  \n                     aten::conv2d         0.07%     102.300us        51.43%      78.579ms       3.929ms            20  \n                aten::convolution         0.07%     109.200us        51.36%      78.477ms       3.924ms            20  \n               aten::_convolution         0.39%     591.700us        51.29%      78.367ms       3.918ms            20  \n         aten::mkldnn_convolution        50.75%      77.538ms        50.89%      77.751ms       3.888ms            20  \n                 aten::batch_norm         1.08%       1.651ms        16.34%      24.961ms       1.248ms            20  \n     aten::_batch_norm_impl_index         0.48%     727.300us        15.26%      23.310ms       1.165ms            20  \n          aten::native_batch_norm         9.34%      14.267ms        14.72%      22.493ms       1.125ms            20  \n                      aten::relu_         0.64%     980.300us         8.16%      12.470ms     733.541us            17  \n                 aten::threshold_         7.52%      11.490ms         7.52%      11.490ms     675.876us            17  \n---------------------------------  ------------  ------------  ------------  ------------  ------------  ------------  \nSelf CPU time total: 152.785ms\n\n"
     ]
    }
   ],
   "source": [
    "print(prof.key_averages().table(sort_by=\"cpu_time_total\", row_limit=10))"
   ]
  },
  {
   "cell_type": "code",
   "execution_count": null,
   "metadata": {},
   "outputs": [],
   "source": []
  }
 ]
}