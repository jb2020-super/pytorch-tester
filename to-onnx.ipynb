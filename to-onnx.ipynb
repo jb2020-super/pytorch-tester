{
 "metadata": {
  "language_info": {
   "codemirror_mode": {
    "name": "ipython",
    "version": 3
   },
   "file_extension": ".py",
   "mimetype": "text/x-python",
   "name": "python",
   "nbconvert_exporter": "python",
   "pygments_lexer": "ipython3",
   "version": "3.8.3"
  },
  "orig_nbformat": 4,
  "kernelspec": {
   "name": "python3",
   "display_name": "Python 3.8.3 64-bit ('base': conda)"
  },
  "interpreter": {
   "hash": "c9065c558bee4c4db638e2f8f7496f90f39fc7fab4c41fb820e5cc84613df2a7"
  }
 },
 "nbformat": 4,
 "nbformat_minor": 2,
 "cells": [
  {
   "source": [
    "# Convert Pytorch model to Onnx model and add Padding Operator at the beginning"
   ],
   "cell_type": "markdown",
   "metadata": {}
  },
  {
   "cell_type": "code",
   "execution_count": 10,
   "metadata": {},
   "outputs": [],
   "source": [
    "import torch\n",
    "import torch.nn as nn\n",
    "import onnxruntime\n",
    "import onnx\n",
    "from PIL import Image\n",
    "import numpy as np"
   ]
  },
  {
   "cell_type": "code",
   "execution_count": 11,
   "metadata": {},
   "outputs": [
    {
     "output_type": "execute_result",
     "data": {
      "text/plain": [
       "'1.8.1'"
      ]
     },
     "metadata": {},
     "execution_count": 11
    }
   ],
   "source": [
    "onnxruntime.__version__"
   ]
  },
  {
   "cell_type": "code",
   "execution_count": 12,
   "metadata": {},
   "outputs": [],
   "source": [
    "class UpConv7(nn.Module):\n",
    "    def __init__(self):\n",
    "        super(UpConv7, self).__init__()\n",
    "        self.net = nn.Sequential(\n",
    "            nn.ReplicationPad2d(7),\n",
    "            nn.Conv2d(3, 16, 3, 1, 0),\n",
    "            nn.LeakyReLU(0.1, inplace=True),\n",
    "            nn.Conv2d(16, 32, 3, 1, 0),\n",
    "            nn.LeakyReLU(0.1, inplace=True),\n",
    "            nn.Conv2d(32, 64, 3, 1, 0),\n",
    "            nn.LeakyReLU(0.1, inplace=True),\n",
    "            nn.Conv2d(64, 128, 3, 1, 0),\n",
    "            nn.LeakyReLU(0.1, inplace=True),\n",
    "            nn.Conv2d(128, 128, 3, 1, 0),\n",
    "            nn.LeakyReLU(0.1, inplace=True),\n",
    "            nn.Conv2d(128, 256, 3, 1, 0),\n",
    "            nn.LeakyReLU(0.1, inplace=True),\n",
    "            nn.ConvTranspose2d(256, 3, 4, 2, 3)            \n",
    "        )\n",
    "\n",
    "    def forward(self, x):\n",
    "        return self.net(x)"
   ]
  },
  {
   "cell_type": "code",
   "execution_count": 13,
   "metadata": {},
   "outputs": [],
   "source": [
    "model = torch.load('wf_scale2x.pth')"
   ]
  },
  {
   "cell_type": "code",
   "execution_count": 14,
   "metadata": {},
   "outputs": [
    {
     "output_type": "execute_result",
     "data": {
      "text/plain": [
       "['__class__',\n",
       " '__contains__',\n",
       " '__delattr__',\n",
       " '__delitem__',\n",
       " '__dir__',\n",
       " '__doc__',\n",
       " '__eq__',\n",
       " '__format__',\n",
       " '__ge__',\n",
       " '__getattribute__',\n",
       " '__getitem__',\n",
       " '__gt__',\n",
       " '__hash__',\n",
       " '__init__',\n",
       " '__init_subclass__',\n",
       " '__iter__',\n",
       " '__le__',\n",
       " '__len__',\n",
       " '__lt__',\n",
       " '__ne__',\n",
       " '__new__',\n",
       " '__reduce__',\n",
       " '__reduce_ex__',\n",
       " '__repr__',\n",
       " '__reversed__',\n",
       " '__setattr__',\n",
       " '__setitem__',\n",
       " '__sizeof__',\n",
       " '__str__',\n",
       " '__subclasshook__',\n",
       " 'clear',\n",
       " 'copy',\n",
       " 'fromkeys',\n",
       " 'get',\n",
       " 'items',\n",
       " 'keys',\n",
       " 'pop',\n",
       " 'popitem',\n",
       " 'setdefault',\n",
       " 'update',\n",
       " 'values']"
      ]
     },
     "metadata": {},
     "execution_count": 14
    }
   ],
   "source": [
    "dir(model)"
   ]
  },
  {
   "cell_type": "code",
   "execution_count": 15,
   "metadata": {},
   "outputs": [
    {
     "output_type": "execute_result",
     "data": {
      "text/plain": [
       "dict"
      ]
     },
     "metadata": {},
     "execution_count": 15
    }
   ],
   "source": [
    "type(model)"
   ]
  },
  {
   "cell_type": "code",
   "execution_count": 16,
   "metadata": {},
   "outputs": [
    {
     "output_type": "execute_result",
     "data": {
      "text/plain": [
       "dict_keys(['nunif_model', 'name', 'updated_at', 'kwargs', 'state_dict'])"
      ]
     },
     "metadata": {},
     "execution_count": 16
    }
   ],
   "source": [
    "model.keys()"
   ]
  },
  {
   "cell_type": "code",
   "execution_count": 17,
   "metadata": {
    "tags": []
   },
   "outputs": [
    {
     "output_type": "stream",
     "name": "stdout",
     "text": [
      "nunif_model 1\nname waifu2x.upconv_7\nupdated_at 1540947281.5372806\nkwargs {'in_channels': 3, 'out_channels': 3}\n"
     ]
    }
   ],
   "source": [
    "model_state_dict = None\n",
    "for key in model.keys():\n",
    "    if key != 'state_dict':\n",
    "        print(key, model[key])\n",
    "    else:\n",
    "        model_state_dict = model[key]"
   ]
  },
  {
   "cell_type": "code",
   "execution_count": 18,
   "metadata": {},
   "outputs": [
    {
     "output_type": "execute_result",
     "data": {
      "text/plain": [
       "collections.OrderedDict"
      ]
     },
     "metadata": {},
     "execution_count": 18
    }
   ],
   "source": [
    "type(model_state_dict)"
   ]
  },
  {
   "cell_type": "code",
   "execution_count": 19,
   "metadata": {},
   "outputs": [
    {
     "output_type": "execute_result",
     "data": {
      "text/plain": [
       "14"
      ]
     },
     "metadata": {},
     "execution_count": 19
    }
   ],
   "source": [
    "len(model_state_dict)"
   ]
  },
  {
   "cell_type": "code",
   "execution_count": 20,
   "metadata": {},
   "outputs": [
    {
     "output_type": "execute_result",
     "data": {
      "text/plain": [
       "odict_keys(['net.0.weight', 'net.0.bias', 'net.2.weight', 'net.2.bias', 'net.4.weight', 'net.4.bias', 'net.6.weight', 'net.6.bias', 'net.8.weight', 'net.8.bias', 'net.10.weight', 'net.10.bias', 'net.12.weight', 'net.12.bias'])"
      ]
     },
     "metadata": {},
     "execution_count": 20
    }
   ],
   "source": [
    "model_state_dict.keys()"
   ]
  },
  {
   "cell_type": "code",
   "execution_count": 21,
   "metadata": {},
   "outputs": [
    {
     "output_type": "execute_result",
     "data": {
      "text/plain": [
       "tensor([ 0.1164,  0.1098, -0.1032,  0.1074, -0.2489, -0.0805, -0.1081,  0.0010,\n",
       "         0.0022, -0.2050,  0.1065,  0.0624,  0.1108,  0.0573,  0.1068,  0.0162])"
      ]
     },
     "metadata": {},
     "execution_count": 21
    }
   ],
   "source": [
    "model_state_dict['net.0.bias']"
   ]
  },
  {
   "cell_type": "code",
   "execution_count": 22,
   "metadata": {},
   "outputs": [],
   "source": [
    "sr_model = UpConv7()"
   ]
  },
  {
   "cell_type": "code",
   "execution_count": 23,
   "metadata": {},
   "outputs": [
    {
     "output_type": "execute_result",
     "data": {
      "text/plain": [
       "UpConv7(\n",
       "  (net): Sequential(\n",
       "    (0): ReplicationPad2d((7, 7, 7, 7))\n",
       "    (1): Conv2d(3, 16, kernel_size=(3, 3), stride=(1, 1))\n",
       "    (2): LeakyReLU(negative_slope=0.1, inplace=True)\n",
       "    (3): Conv2d(16, 32, kernel_size=(3, 3), stride=(1, 1))\n",
       "    (4): LeakyReLU(negative_slope=0.1, inplace=True)\n",
       "    (5): Conv2d(32, 64, kernel_size=(3, 3), stride=(1, 1))\n",
       "    (6): LeakyReLU(negative_slope=0.1, inplace=True)\n",
       "    (7): Conv2d(64, 128, kernel_size=(3, 3), stride=(1, 1))\n",
       "    (8): LeakyReLU(negative_slope=0.1, inplace=True)\n",
       "    (9): Conv2d(128, 128, kernel_size=(3, 3), stride=(1, 1))\n",
       "    (10): LeakyReLU(negative_slope=0.1, inplace=True)\n",
       "    (11): Conv2d(128, 256, kernel_size=(3, 3), stride=(1, 1))\n",
       "    (12): LeakyReLU(negative_slope=0.1, inplace=True)\n",
       "    (13): ConvTranspose2d(256, 3, kernel_size=(4, 4), stride=(2, 2), padding=(3, 3))\n",
       "  )\n",
       ")"
      ]
     },
     "metadata": {},
     "execution_count": 23
    }
   ],
   "source": [
    "sr_model"
   ]
  },
  {
   "cell_type": "code",
   "execution_count": 24,
   "metadata": {},
   "outputs": [
    {
     "output_type": "execute_result",
     "data": {
      "text/plain": [
       "['T_destination',\n",
       " '__annotations__',\n",
       " '__call__',\n",
       " '__class__',\n",
       " '__delattr__',\n",
       " '__dict__',\n",
       " '__dir__',\n",
       " '__doc__',\n",
       " '__eq__',\n",
       " '__format__',\n",
       " '__ge__',\n",
       " '__getattr__',\n",
       " '__getattribute__',\n",
       " '__gt__',\n",
       " '__hash__',\n",
       " '__init__',\n",
       " '__init_subclass__',\n",
       " '__le__',\n",
       " '__lt__',\n",
       " '__module__',\n",
       " '__ne__',\n",
       " '__new__',\n",
       " '__reduce__',\n",
       " '__reduce_ex__',\n",
       " '__repr__',\n",
       " '__setattr__',\n",
       " '__setstate__',\n",
       " '__sizeof__',\n",
       " '__str__',\n",
       " '__subclasshook__',\n",
       " '__weakref__',\n",
       " '_apply',\n",
       " '_backward_hooks',\n",
       " '_buffers',\n",
       " '_call_impl',\n",
       " '_forward_hooks',\n",
       " '_forward_pre_hooks',\n",
       " '_get_name',\n",
       " '_load_from_state_dict',\n",
       " '_load_state_dict_pre_hooks',\n",
       " '_modules',\n",
       " '_named_members',\n",
       " '_non_persistent_buffers_set',\n",
       " '_parameters',\n",
       " '_register_load_state_dict_pre_hook',\n",
       " '_register_state_dict_hook',\n",
       " '_replicate_for_data_parallel',\n",
       " '_save_to_state_dict',\n",
       " '_slow_forward',\n",
       " '_state_dict_hooks',\n",
       " '_version',\n",
       " 'add_module',\n",
       " 'apply',\n",
       " 'bfloat16',\n",
       " 'buffers',\n",
       " 'children',\n",
       " 'cpu',\n",
       " 'cuda',\n",
       " 'double',\n",
       " 'dump_patches',\n",
       " 'eval',\n",
       " 'extra_repr',\n",
       " 'float',\n",
       " 'forward',\n",
       " 'half',\n",
       " 'load_state_dict',\n",
       " 'modules',\n",
       " 'named_buffers',\n",
       " 'named_children',\n",
       " 'named_modules',\n",
       " 'named_parameters',\n",
       " 'net',\n",
       " 'parameters',\n",
       " 'register_backward_hook',\n",
       " 'register_buffer',\n",
       " 'register_forward_hook',\n",
       " 'register_forward_pre_hook',\n",
       " 'register_parameter',\n",
       " 'requires_grad_',\n",
       " 'share_memory',\n",
       " 'state_dict',\n",
       " 'to',\n",
       " 'train',\n",
       " 'training',\n",
       " 'type',\n",
       " 'zero_grad']"
      ]
     },
     "metadata": {},
     "execution_count": 24
    }
   ],
   "source": [
    "dir(sr_model)"
   ]
  },
  {
   "cell_type": "code",
   "execution_count": 25,
   "metadata": {
    "tags": []
   },
   "outputs": [
    {
     "output_type": "stream",
     "name": "stdout",
     "text": [
      "<class 'torch.nn.parameter.Parameter'> torch.Size([16, 3, 3, 3])\n<class 'torch.nn.parameter.Parameter'> torch.Size([16])\nParameter containing:\ntensor([ 0.1303,  0.1918, -0.0039, -0.0123,  0.0990, -0.1838, -0.0106, -0.1423,\n         0.0463,  0.1413, -0.0250, -0.1327, -0.0404, -0.1180,  0.1072,  0.1724],\n       requires_grad=True)\n<class 'torch.nn.parameter.Parameter'> torch.Size([32, 16, 3, 3])\n<class 'torch.nn.parameter.Parameter'> torch.Size([32])\n<class 'torch.nn.parameter.Parameter'> torch.Size([64, 32, 3, 3])\n<class 'torch.nn.parameter.Parameter'> torch.Size([64])\n<class 'torch.nn.parameter.Parameter'> torch.Size([128, 64, 3, 3])\n<class 'torch.nn.parameter.Parameter'> torch.Size([128])\n<class 'torch.nn.parameter.Parameter'> torch.Size([128, 128, 3, 3])\n<class 'torch.nn.parameter.Parameter'> torch.Size([128])\n<class 'torch.nn.parameter.Parameter'> torch.Size([256, 128, 3, 3])\n<class 'torch.nn.parameter.Parameter'> torch.Size([256])\n<class 'torch.nn.parameter.Parameter'> torch.Size([256, 3, 4, 4])\n<class 'torch.nn.parameter.Parameter'> torch.Size([3])\n"
     ]
    }
   ],
   "source": [
    "idx = 0\n",
    "for par in sr_model.parameters():\n",
    "    print(type(par), par.size())\n",
    "    idx += 1\n",
    "    if idx == 2:\n",
    "        print(par)"
   ]
  },
  {
   "cell_type": "code",
   "execution_count": 26,
   "metadata": {},
   "outputs": [],
   "source": [
    "sr_state_dict = sr_model.state_dict()"
   ]
  },
  {
   "cell_type": "code",
   "execution_count": 27,
   "metadata": {},
   "outputs": [
    {
     "output_type": "execute_result",
     "data": {
      "text/plain": [
       "odict_keys(['net.1.weight', 'net.1.bias', 'net.3.weight', 'net.3.bias', 'net.5.weight', 'net.5.bias', 'net.7.weight', 'net.7.bias', 'net.9.weight', 'net.9.bias', 'net.11.weight', 'net.11.bias', 'net.13.weight', 'net.13.bias'])"
      ]
     },
     "metadata": {},
     "execution_count": 27
    }
   ],
   "source": [
    "sr_state_dict.keys()"
   ]
  },
  {
   "cell_type": "code",
   "execution_count": 28,
   "metadata": {},
   "outputs": [
    {
     "output_type": "stream",
     "name": "stdout",
     "text": [
      "net.1.weight net.0.weight\n",
      "net.1.bias net.0.bias\n",
      "net.3.weight net.2.weight\n",
      "net.3.bias net.2.bias\n",
      "net.5.weight net.4.weight\n",
      "net.5.bias net.4.bias\n",
      "net.7.weight net.6.weight\n",
      "net.7.bias net.6.bias\n",
      "net.9.weight net.8.weight\n",
      "net.9.bias net.8.bias\n",
      "net.11.weight net.10.weight\n",
      "net.11.bias net.10.bias\n",
      "net.13.weight net.12.weight\n",
      "net.13.bias net.12.bias\n"
     ]
    }
   ],
   "source": [
    "with torch.no_grad():\n",
    "    idx = 1\n",
    "    i = 0\n",
    "    for name, param in sr_model.named_parameters():        \n",
    "        new_name = name.replace(str(idx), str(idx-1))\n",
    "        print(name, new_name)\n",
    "        param.copy_(model_state_dict[new_name])\n",
    "        if i % 2 == 1:\n",
    "            idx += 2\n",
    "        i += 1"
   ]
  },
  {
   "cell_type": "code",
   "execution_count": 29,
   "metadata": {},
   "outputs": [
    {
     "output_type": "stream",
     "name": "stdout",
     "text": [
      "<class 'torch.nn.parameter.Parameter'> torch.Size([16, 3, 3, 3])\n<class 'torch.nn.parameter.Parameter'> torch.Size([16])\nParameter containing:\ntensor([ 0.1164,  0.1098, -0.1032,  0.1074, -0.2489, -0.0805, -0.1081,  0.0010,\n         0.0022, -0.2050,  0.1065,  0.0624,  0.1108,  0.0573,  0.1068,  0.0162],\n       requires_grad=True)\n<class 'torch.nn.parameter.Parameter'> torch.Size([32, 16, 3, 3])\n<class 'torch.nn.parameter.Parameter'> torch.Size([32])\n<class 'torch.nn.parameter.Parameter'> torch.Size([64, 32, 3, 3])\n<class 'torch.nn.parameter.Parameter'> torch.Size([64])\n<class 'torch.nn.parameter.Parameter'> torch.Size([128, 64, 3, 3])\n<class 'torch.nn.parameter.Parameter'> torch.Size([128])\n<class 'torch.nn.parameter.Parameter'> torch.Size([128, 128, 3, 3])\n<class 'torch.nn.parameter.Parameter'> torch.Size([128])\n<class 'torch.nn.parameter.Parameter'> torch.Size([256, 128, 3, 3])\n<class 'torch.nn.parameter.Parameter'> torch.Size([256])\n<class 'torch.nn.parameter.Parameter'> torch.Size([256, 3, 4, 4])\n<class 'torch.nn.parameter.Parameter'> torch.Size([3])\n"
     ]
    }
   ],
   "source": [
    "idx = 0\n",
    "for par in sr_model.parameters():\n",
    "    print(type(par), par.size())\n",
    "    idx += 1\n",
    "    if idx == 2:\n",
    "        print(par)"
   ]
  },
  {
   "cell_type": "code",
   "execution_count": 30,
   "metadata": {},
   "outputs": [],
   "source": [
    "new_onnx_model_name = 'wf_scale2x_new.pth'\n",
    "torch.save(sr_model, new_onnx_model_name)"
   ]
  },
  {
   "cell_type": "code",
   "execution_count": 31,
   "metadata": {},
   "outputs": [],
   "source": [
    "data = torch.rand(1, 3, 256, 256)\n",
    "torch.onnx.export(sr_model, data, new_onnx_model_name, \n",
    "    input_names=['input'],\n",
    "    output_names=['output'],\n",
    "    dynamic_axes={'input':{0:'batch_size', 2:'height', 3:'width'}, 'output': {0:'batch_size', 2:'height', 3:'width'}}\n",
    ")"
   ]
  }
 ]
}